{
 "cells": [
  {
   "cell_type": "code",
   "execution_count": null,
   "metadata": {},
   "outputs": [],
   "source": [
    "\"\"\"\n",
    "This script enables us to execute the analytics\n",
    "\n",
    "Usage:\n",
    "    we can do spark-submit with this file\n",
    "\n",
    "Command Line Arguments:\n",
    "    analytics_choice : 1-10 or 'all' ('all' will execute all the analytics sequentially)\n",
    "\n",
    "\"\"\""
   ]
  },
  {
   "cell_type": "code",
   "execution_count": null,
   "metadata": {},
   "outputs": [],
   "source": [
    "from utils.logging import logger, perf_log\n",
    "\n",
    "from analytics import get_analytics_function\n",
    "\n",
    "import json\n"
   ]
  },
  {
   "cell_type": "code",
   "execution_count": null,
   "metadata": {},
   "outputs": [],
   "source": [
    "\n",
    "config = None\n",
    "\n",
    "with open('config.json') as file:\n",
    "\n",
    "    config = json.load(file)"
   ]
  },
  {
   "cell_type": "code",
   "execution_count": null,
   "metadata": {},
   "outputs": [
    {
     "name": "stderr",
     "output_type": "stream",
     "text": [
      "25/01/19 00:15:10 WARN Utils: Your hostname, deepan-desktop resolves to a loopback address: 127.0.1.1; using 192.168.0.104 instead (on interface wlo1)\n",
      "25/01/19 00:15:10 WARN Utils: Set SPARK_LOCAL_IP if you need to bind to another address\n",
      "Setting default log level to \"WARN\".\n",
      "To adjust logging level use sc.setLogLevel(newLevel). For SparkR, use setLogLevel(newLevel).\n",
      "25/01/19 00:15:10 WARN NativeCodeLoader: Unable to load native-hadoop library for your platform... using builtin-java classes where applicable\n"
     ]
    }
   ],
   "source": [
    "from pyspark.sql import SparkSession\n",
    "\n",
    "spark = SparkSession.Builder().appName('bcg-analytics').getOrCreate()"
   ]
  },
  {
   "cell_type": "code",
   "execution_count": null,
   "metadata": {},
   "outputs": [
    {
     "name": "stderr",
     "output_type": "stream",
     "text": [
      "usage: ipykernel_launcher.py [-h] analytics_choice\n",
      "ipykernel_launcher.py: error: the following arguments are required: analytics_choice\n"
     ]
    },
    {
     "ename": "SystemExit",
     "evalue": "2",
     "output_type": "error",
     "traceback": [
      "An exception has occurred, use %tb to see the full traceback.\n",
      "\u001b[0;31mSystemExit\u001b[0m\u001b[0;31m:\u001b[0m 2\n"
     ]
    },
    {
     "name": "stderr",
     "output_type": "stream",
     "text": [
      "/home/deepan/Documents/pyspark/venv/lib/python3.13/site-packages/IPython/core/interactiveshell.py:3585: UserWarning: To exit: use 'exit', 'quit', or Ctrl-D.\n",
      "  warn(\"To exit: use 'exit', 'quit', or Ctrl-D.\", stacklevel=1)\n"
     ]
    }
   ],
   "source": [
    "import argparse\n",
    "\n",
    "parser = argparse.ArgumentParser()\n",
    "\n",
    "# required positional argument\n",
    "\n",
    "parser.add_argument('analytics_choice', type=str, help=\"provide the choice for analytics : an integer or 'all' \")\n",
    "\n",
    "args = parser.parse_args()\n",
    "\n",
    "choice = str(args.analytics_choice).strip()\n",
    "\n",
    "\n",
    "if(choice == 'all'):\n",
    "\n",
    "    for i in range(1, 11):\n",
    "\n",
    "        analytics_id = f'analytics_{i}'\n",
    "\n",
    "        func = perf_log(get_analytics_function(f'analytics_{i}'))\n",
    "\n",
    "        func(spark, config)\n",
    "\n",
    "\n",
    "elif(int(choice)):\n",
    "\n",
    "    analytics_id = f'analytics_{choice}'\n",
    "\n",
    "    func = perf_log(get_analytics_function(analytics_id))\n",
    "\n",
    "    func(spark, config)\n",
    "\n",
    "else:\n",
    "    raise ValueError(f\"expected values are integer (1-10) / 'all'\")\n"
   ]
  }
 ],
 "metadata": {
  "kernelspec": {
   "display_name": "venv",
   "language": "python",
   "name": "python3"
  },
  "language_info": {
   "codemirror_mode": {
    "name": "ipython",
    "version": 3
   },
   "file_extension": ".py",
   "mimetype": "text/x-python",
   "name": "python",
   "nbconvert_exporter": "python",
   "pygments_lexer": "ipython3",
   "version": "3.13.1"
  }
 },
 "nbformat": 4,
 "nbformat_minor": 2
}
